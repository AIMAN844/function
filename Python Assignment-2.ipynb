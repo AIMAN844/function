{
 "cells": [
  {
   "cell_type": "markdown",
   "id": "cabf443c-5459-484f-9c2f-3a7952c5e597",
   "metadata": {},
   "source": [
    "Q1. Create a python program to sort the given list of tuples based on integer value using a lambda function."
   ]
  },
  {
   "cell_type": "code",
   "execution_count": 2,
   "id": "bcbebc9b-ac7f-40ce-828e-1c13decfd67f",
   "metadata": {},
   "outputs": [
    {
     "name": "stdout",
     "output_type": "stream",
     "text": [
      "[('Virat Kohli', 24936), ('Jack Kallis', 25534), ('Ricky Ponting', 27483), ('Sachin Tendulkar', 34357)]\n"
     ]
    }
   ],
   "source": [
    "# Given list of tuples\n",
    "players_data = [('Sachin Tendulkar', 34357), ('Ricky Ponting', 27483), ('Jack Kallis', 25534), ('Virat Kohli', 24936)]\n",
    "\n",
    "# Sorting the list based on the second element of each tuple using lambda function\n",
    "sorted_players = sorted(players_data, key=lambda x: x[1])\n",
    "\n",
    "# Printing the sorted list\n",
    "print(sorted_players)\n"
   ]
  },
  {
   "cell_type": "markdown",
   "id": "92153fb6-c310-4a2d-8a3c-2a80de120ec3",
   "metadata": {},
   "source": [
    "Q2. Write a Python Program to find the squares of all the numbers in the given list of integers using\n",
    "lambda and map functions.\n",
    "[1, 2, 3, 4, 5, 6, 7, 8, 9, 10]"
   ]
  },
  {
   "cell_type": "code",
   "execution_count": 3,
   "id": "ee21a7e9-4470-480f-aed8-675d6608dcf8",
   "metadata": {},
   "outputs": [
    {
     "name": "stdout",
     "output_type": "stream",
     "text": [
      "[1, 4, 9, 16, 25, 36, 49, 64, 81, 100]\n"
     ]
    }
   ],
   "source": [
    "# Given list of integers\n",
    "numbers = [1, 2, 3, 4, 5, 6, 7, 8, 9, 10]\n",
    "\n",
    "# Using lambda and map to find the squares\n",
    "squares = list(map(lambda x: x**2, numbers))\n",
    "\n",
    "# Printing the list of squares\n",
    "print(squares)\n"
   ]
  },
  {
   "cell_type": "markdown",
   "id": "9011fffe-7109-44c0-89be-10cff6ff4f3e",
   "metadata": {},
   "source": [
    "Q3. Write a python program to convert the given list of integers into a tuple of strings. Use map and\n",
    "lambda functions\n",
    "Given String: [1, 2, 3, 4, 5, 6, 7, 8, 9, 10]\n",
    "Expected output: ('1', '2', '3', '4', '5', '6', '7', '8', '9', '10')"
   ]
  },
  {
   "cell_type": "code",
   "execution_count": 4,
   "id": "baa98784-53c0-4226-8e47-27b1b1c4dd60",
   "metadata": {},
   "outputs": [
    {
     "name": "stdout",
     "output_type": "stream",
     "text": [
      "('1', '2', '3', '4', '5', '6', '7', '8', '9', '10')\n"
     ]
    }
   ],
   "source": [
    "# Given list of integers\n",
    "numbers = [1, 2, 3, 4, 5, 6, 7, 8, 9, 10]\n",
    "\n",
    "# Using lambda and map to convert the list of integers into a tuple of strings\n",
    "tuple_of_strings = tuple(map(lambda x: str(x), numbers))\n",
    "\n",
    "# Printing the tuple of strings\n",
    "print(tuple_of_strings)\n"
   ]
  },
  {
   "cell_type": "markdown",
   "id": "83b95525-e82c-47ca-87ec-27f04fac997b",
   "metadata": {},
   "source": [
    "Q4. Write a python program using reduce function to compute the product of a list containing numbers\n",
    "from 1 to 25."
   ]
  },
  {
   "cell_type": "code",
   "execution_count": 5,
   "id": "a42db669-a826-40eb-b2a5-1b9b34d0dfe6",
   "metadata": {},
   "outputs": [
    {
     "name": "stdout",
     "output_type": "stream",
     "text": [
      "Product of the list: 15511210043330985984000000\n"
     ]
    }
   ],
   "source": [
    "from functools import reduce\n",
    "\n",
    "# Generating a list of numbers from 1 to 25\n",
    "numbers = list(range(1, 26))\n",
    "\n",
    "# Using reduce to compute the product of the list\n",
    "product = reduce(lambda x, y: x * y, numbers)\n",
    "\n",
    "# Printing the result\n",
    "print(\"Product of the list:\", product)\n"
   ]
  },
  {
   "cell_type": "markdown",
   "id": "f24fc0e3-d403-4a67-a593-aae9acff8df3",
   "metadata": {},
   "source": [
    "Q5. Write a python program to filter the numbers in a given list that are divisible by 2 and 3 using the\n",
    "filter function.\n",
    "[2, 3, 6, 9, 27, 60, 90, 120, 55, 46]"
   ]
  },
  {
   "cell_type": "code",
   "execution_count": 6,
   "id": "33ac14ea-5bb1-444d-b864-81b0b42e9dfd",
   "metadata": {},
   "outputs": [
    {
     "name": "stdout",
     "output_type": "stream",
     "text": [
      "Numbers divisible by 2 and 3: [6, 60, 90, 120]\n"
     ]
    }
   ],
   "source": [
    "# Given list of numbers\n",
    "numbers = [2, 3, 6, 9, 27, 60, 90, 120, 55, 46]\n",
    "\n",
    "# Using filter to get numbers divisible by 2 and 3\n",
    "filtered_numbers = list(filter(lambda x: x % 2 == 0 and x % 3 == 0, numbers))\n",
    "\n",
    "# Printing the filtered numbers\n",
    "print(\"Numbers divisible by 2 and 3:\", filtered_numbers)\n"
   ]
  },
  {
   "cell_type": "code",
   "execution_count": null,
   "id": "5f23d24d-3289-490e-b213-6981322fe7cb",
   "metadata": {},
   "outputs": [],
   "source": []
  }
 ],
 "metadata": {
  "kernelspec": {
   "display_name": "Python 3 (ipykernel)",
   "language": "python",
   "name": "python3"
  },
  "language_info": {
   "codemirror_mode": {
    "name": "ipython",
    "version": 3
   },
   "file_extension": ".py",
   "mimetype": "text/x-python",
   "name": "python",
   "nbconvert_exporter": "python",
   "pygments_lexer": "ipython3",
   "version": "3.10.8"
  }
 },
 "nbformat": 4,
 "nbformat_minor": 5
}
